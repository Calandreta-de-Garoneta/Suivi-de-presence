{
 "cells": [
  {
   "cell_type": "code",
   "execution_count": 233,
   "id": "11865a96",
   "metadata": {},
   "outputs": [],
   "source": [
    "import pandas as pd # pour traiter les tableaux\n",
    "import shutil # pour gérer les fichiers et en particulier copier le fichier modèle\n",
    "import numpy  as np"
   ]
  },
  {
   "cell_type": "code",
   "execution_count": 56,
   "id": "fae5a14b-78dc-4640-b951-d1f2a0e06681",
   "metadata": {},
   "outputs": [],
   "source": [
    "from frozenlist import FrozenList"
   ]
  },
  {
   "cell_type": "code",
   "execution_count": 114,
   "id": "7273b51c-4439-4c58-8453-e86066fd5f40",
   "metadata": {},
   "outputs": [],
   "source": [
    "import datetime"
   ]
  },
  {
   "cell_type": "code",
   "execution_count": 127,
   "id": "c4687d6e-6410-4849-84db-a479b1f02690",
   "metadata": {},
   "outputs": [],
   "source": [
    "days_jours = { 'Monday' : 'Lundi',\n",
    "               'Tuesday' : 'Mardi',\n",
    "               'Wednesday' : 'Mercredi', \n",
    "               'Thursday' : 'Jeudi', \n",
    "               'Friday' : 'Vendredi'}"
   ]
  },
  {
   "cell_type": "code",
   "execution_count": 3,
   "id": "e8024549",
   "metadata": {},
   "outputs": [
    {
     "name": "stdout",
     "output_type": "stream",
     "text": [
      "WARNING *** OLE2 inconsistency: SSCS size is 0 but SSAT size is non-zero\n"
     ]
    }
   ],
   "source": [
    "stat_inscrits = pd.read_excel(\"statistiques_inscrits.xls\", skiprows=3)"
   ]
  },
  {
   "cell_type": "code",
   "execution_count": 136,
   "id": "2790d498",
   "metadata": {},
   "outputs": [],
   "source": [
    "stat_inscrits['nom_classe'] = stat_inscrits.Classe.str.split(expand=True).iloc[:,[0]]\n",
    "stat_inscrits['Niveau'] = stat_inscrits.Classe.str.split(expand=True).iloc[:,[1]]\n",
    "stat_inscrits['Clae'] = stat_inscrits.Groupe.str.split(expand=True).iloc[:,[1]]\n",
    "stat_inscrits['Nom'] = stat_inscrits.Enfant.str.split(expand=True).iloc[:,[0]]\n",
    "stat_inscrits['Prenom'] = stat_inscrits.Enfant.str.split(expand=True).iloc[:,[1]]\n",
    "stat_inscrits['jour'] = stat_inscrits['Début inscr.'].dt.day_name().map(lambda x : days_jours[x])\n",
    "stat_inscrits['date'] = stat_inscrits['jour'] + ' ' + stat_inscrits['Début inscr.'].map(lambda x: datetime.datetime.strftime(x,'%d/%m'))\n"
   ]
  },
  {
   "cell_type": "code",
   "execution_count": 163,
   "id": "6cb074a9-9e97-4999-83a9-6faa07d40de6",
   "metadata": {},
   "outputs": [],
   "source": [
    "correspondance_jour = stat_inscrits[['Début inscr.', 'date', 'jour']].drop_duplicates().sort_values('Début inscr.') "
   ]
  },
  {
   "cell_type": "code",
   "execution_count": 164,
   "id": "6bed1015-1f31-428b-a219-bbc1188b40c7",
   "metadata": {},
   "outputs": [
    {
     "data": {
      "text/plain": [
       "['Mardi 12/11', 'Jeudi 14/11', 'Vendredi 15/11']"
      ]
     },
     "execution_count": 164,
     "metadata": {},
     "output_type": "execute_result"
    }
   ],
   "source": [
    "correspondance_jour[correspondance_jour.jour!='Mercredi'].date.to_list()"
   ]
  },
  {
   "cell_type": "markdown",
   "id": "1955b9a3-4aa4-4695-975a-fb9042611408",
   "metadata": {},
   "source": [
    "Je séléctionne les lundi, mardi, jeudi et vendredi"
   ]
  },
  {
   "cell_type": "code",
   "execution_count": 167,
   "id": "980d40e3-25b3-4584-b7b4-9cc586f66a2f",
   "metadata": {},
   "outputs": [],
   "source": [
    "stat_inscrits_lmjv = stat_inscrits[stat_inscrits['jour'].isin(['Lundi', 'Mardi', 'Jeudi', 'Vendredi']) ] "
   ]
  },
  {
   "cell_type": "markdown",
   "id": "fc23b3f6-f045-49cd-becd-0cf18473d1fa",
   "metadata": {},
   "source": [
    "Je remplis les onglets pour le lundi, mardi, jeudi et vendredi"
   ]
  },
  {
   "cell_type": "code",
   "execution_count": 340,
   "id": "7d5415c7",
   "metadata": {},
   "outputs": [
    {
     "data": {
      "text/plain": [
       "'Suivi Des Presences Hebdomadaire-12-Nov-2024.xlsx'"
      ]
     },
     "execution_count": 340,
     "metadata": {},
     "output_type": "execute_result"
    }
   ],
   "source": [
    "date_min = stat_inscrits['Début inscr.'].min().strftime(\"%d-%b-%Y\")\n",
    "name_file = 'Suivi Des Presences Hebdomadaire-{}.xlsx'.format(date_min)\n",
    "shutil.copy(\"Suivi Des Presences Hebdomadaire-Modele.xlsx\", name_file) "
   ]
  },
  {
   "cell_type": "code",
   "execution_count": 341,
   "id": "6bfd97fd-2b0b-4c9f-ab9a-485965de6e3c",
   "metadata": {},
   "outputs": [],
   "source": [
    "first_level = np.repeat(correspondance_jour[correspondance_jour.jour!='Mercredi'].date.to_list(),3)\n",
    "first_level = np.concatenate([['',''], first_level])\n",
    "second_level = np.tile(['matin','midi', 'soir'], correspondance_jour[correspondance_jour.jour!='Mercredi'].shape[0])\n",
    "second_level = np.concatenate([['Enfant', 'Niveau'], second_level])\n",
    "array = first_level, second_level\n",
    "Classe_pivot.columns= pd.MultiIndex.from_arrays(array)"
   ]
  },
  {
   "cell_type": "code",
   "execution_count": 342,
   "id": "078c54c6",
   "metadata": {},
   "outputs": [],
   "source": [
    "for nom_classe in ['Aiga', \"Tèrra\", \"Fuòc\", \"Amor\", \"Aire\"]:\n",
    "    Classe = stat_inscrits_lmjv[stat_inscrits_lmjv.nom_classe==nom_classe]\n",
    "    Classe = Classe[Classe.Groupe.isin(['CLAE Matin', 'CLAE Midi', 'CLAE Soir'])]\n",
    "    Classe = Classe[~Classe.Groupe.isna()]\n",
    "    Classe = pd.concat([Classe, pd.get_dummies(Classe.Clae)[['Matin', 'Midi', 'Soir']]], axis=1)\n",
    "    Classe_pivot = Classe.pivot_table(values=['Matin', 'Midi', 'Soir'], index=['Enfant', 'Niveau'], columns=['date'], aggfunc='sum')#.swaplevel(0, 1, axis=1)\n",
    "    Classe_pivot = Classe_pivot.reorder_levels([1, 0], axis=1).sort_values('date', axis=1)\n",
    "    Classe_pivot = Classe_pivot[correspondance_jour[correspondance_jour.jour!='Mercredi'].date.to_list()]\n",
    "    Classe_pivot = Classe_pivot.reset_index()\n",
    "    Classe_pivot.columns= pd.MultiIndex.from_arrays(array)\n",
    "    summary = pd.DataFrame(np.array(Classe_pivot.iloc[:,2:].sum(axis=0, ).to_list() ).reshape(1,len(correspondance_jour[correspondance_jour.jour!='Mercredi'].date.to_list()) * 3))\n",
    "    Classe_pivot.replace(0,'',inplace=True)\n",
    "    #Classe_pivot.columns.names = FrozenList([None, None])\n",
    "    with pd.ExcelWriter(name_file, mode=\"a\", engine=\"openpyxl\", if_sheet_exists=\"overlay\") as writer:\n",
    "        Classe_pivot.to_excel(writer, sheet_name=nom_classe, startrow=3, index_label=False)  \n",
    "        summary.to_excel(writer, sheet_name=nom_classe, startrow=30, startcol = 3, index_label=False, index=False)"
   ]
  }
 ],
 "metadata": {
  "kernelspec": {
   "display_name": "Python 3 (ipykernel)",
   "language": "python",
   "name": "python3"
  },
  "language_info": {
   "codemirror_mode": {
    "name": "ipython",
    "version": 3
   },
   "file_extension": ".py",
   "mimetype": "text/x-python",
   "name": "python",
   "nbconvert_exporter": "python",
   "pygments_lexer": "ipython3",
   "version": "3.12.6"
  }
 },
 "nbformat": 4,
 "nbformat_minor": 5
}
